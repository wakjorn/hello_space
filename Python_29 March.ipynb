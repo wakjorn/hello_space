{
 "cells": [
  {
   "cell_type": "code",
   "execution_count": null,
   "id": "a4153dce",
   "metadata": {},
   "outputs": [],
   "source": [
    "type(5)"
   ]
  },
  {
   "cell_type": "code",
   "execution_count": null,
   "id": "802673fe",
   "metadata": {},
   "outputs": [],
   "source": []
  },
  {
   "cell_type": "code",
   "execution_count": null,
   "id": "c89a658f",
   "metadata": {},
   "outputs": [],
   "source": [
    "print(\"True\"*5)"
   ]
  },
  {
   "cell_type": "code",
   "execution_count": null,
   "id": "19215cf8",
   "metadata": {},
   "outputs": [],
   "source": [
    "for i in range(5)\n",
    "    print(\"True\"*5)"
   ]
  },
  {
   "cell_type": "code",
   "execution_count": null,
   "id": "c6ea3ac6",
   "metadata": {},
   "outputs": [],
   "source": [
    "a_string = \"Hello World\""
   ]
  },
  {
   "cell_type": "code",
   "execution_count": null,
   "id": "7b27b859",
   "metadata": {},
   "outputs": [],
   "source": [
    "a_string[5]"
   ]
  },
  {
   "cell_type": "code",
   "execution_count": null,
   "id": "0c1f07a1",
   "metadata": {},
   "outputs": [],
   "source": [
    "print(a_string[::2])"
   ]
  },
  {
   "cell_type": "code",
   "execution_count": null,
   "id": "e36f5362",
   "metadata": {},
   "outputs": [],
   "source": [
    "a_string = \"Hello World\"\n",
    "a_string[3::2]"
   ]
  },
  {
   "cell_type": "code",
   "execution_count": null,
   "id": "da19ceb1",
   "metadata": {},
   "outputs": [],
   "source": [
    "(True and False) or (False or True)"
   ]
  },
  {
   "cell_type": "code",
   "execution_count": null,
   "id": "7e333fd6",
   "metadata": {},
   "outputs": [],
   "source": [
    "(True and False)"
   ]
  },
  {
   "cell_type": "code",
   "execution_count": null,
   "id": "8f54b702",
   "metadata": {},
   "outputs": [],
   "source": [
    "(False or True)"
   ]
  },
  {
   "cell_type": "code",
   "execution_count": null,
   "id": "1fc36eb4",
   "metadata": {},
   "outputs": [],
   "source": [
    "True and False or False or True"
   ]
  },
  {
   "cell_type": "code",
   "execution_count": null,
   "id": "4d9f3af4",
   "metadata": {},
   "outputs": [],
   "source": [
    "True and False or False or True"
   ]
  },
  {
   "cell_type": "code",
   "execution_count": null,
   "id": "cbb87f77",
   "metadata": {},
   "outputs": [],
   "source": [
    "x = 3\n",
    "y = 5"
   ]
  },
  {
   "cell_type": "code",
   "execution_count": null,
   "id": "4032438d",
   "metadata": {},
   "outputs": [],
   "source": [
    "(x==6) or (y>=5) and (x>5)"
   ]
  },
  {
   "cell_type": "code",
   "execution_count": null,
   "id": "aacf37b6",
   "metadata": {},
   "outputs": [],
   "source": [
    "((x==6) or (y>=5)) and (x>5)"
   ]
  },
  {
   "cell_type": "code",
   "execution_count": null,
   "id": "05c6ba15",
   "metadata": {},
   "outputs": [],
   "source": [
    "a_list = [\"a\", \"b\", \"c\", 2.5, \"True\", False]"
   ]
  },
  {
   "cell_type": "code",
   "execution_count": null,
   "id": "047fe230",
   "metadata": {},
   "outputs": [],
   "source": [
    "\"b\" in a_list"
   ]
  },
  {
   "cell_type": "code",
   "execution_count": null,
   "id": "de551776",
   "metadata": {},
   "outputs": [],
   "source": [
    "\"True\" in a_list"
   ]
  },
  {
   "cell_type": "code",
   "execution_count": null,
   "id": "c559155b",
   "metadata": {},
   "outputs": [],
   "source": [
    "for item in a_list:\n",
    "    print (item*2)"
   ]
  },
  {
   "cell_type": "code",
   "execution_count": null,
   "id": "07e09022",
   "metadata": {},
   "outputs": [],
   "source": [
    "x = 5\n",
    "y = 10\n",
    "symbol = \"^\""
   ]
  },
  {
   "cell_type": "code",
   "execution_count": null,
   "id": "96bbfefe",
   "metadata": {},
   "outputs": [],
   "source": [
    "if x <= 5:\n",
    "    if y > 20:\n",
    "        for i in range(x):\n",
    "            print (symbol,ends=\"\")\n",
    "            elif x > 5:\n",
    "                for i in range(y)"
   ]
  },
  {
   "cell_type": "code",
   "execution_count": null,
   "id": "7584c3cd",
   "metadata": {},
   "outputs": [],
   "source": [
    "treasure_map = [25,[\"###\",[\"$$$\",\"###\"],1,2]]"
   ]
  },
  {
   "cell_type": "code",
   "execution_count": null,
   "id": "2fc2c08c",
   "metadata": {},
   "outputs": [],
   "source": [
    "print(treasure_map[1][1][0])"
   ]
  },
  {
   "cell_type": "code",
   "execution_count": null,
   "id": "e246f109",
   "metadata": {},
   "outputs": [],
   "source": [
    "pets=[\"dog\",\"cat\",\"mouse\",\"rabbit\"]\n",
    "del (pets[2])\n",
    "print (pets)"
   ]
  },
  {
   "cell_type": "code",
   "execution_count": null,
   "id": "e09196e2",
   "metadata": {},
   "outputs": [],
   "source": [
    "f = open(\"poem.txt\",\"r\")\n",
    "line1 = f.readline()\n",
    "line2 = f.readline()\n",
    "line3 = f.readline()\n",
    "line4 = f.readline()\n",
    "f.close()\n",
    "print (line1 + line2 + line3 + line4)"
   ]
  },
  {
   "cell_type": "code",
   "execution_count": null,
   "id": "ca468d6b",
   "metadata": {},
   "outputs": [],
   "source": [
    "f = open(\"C:\\\\Users\\\\USER\\\\Downloads\\\\poem2.txt\",\"r\")\n",
    "line1 = f.readline()\n",
    "line2 = f.readline()\n",
    "line3 = f.readline()\n",
    "line4 = f.readline()\n",
    "f.close()\n",
    "print (line1 + line2 + line3 + line4)"
   ]
  },
  {
   "cell_type": "code",
   "execution_count": null,
   "id": "457634e8",
   "metadata": {},
   "outputs": [],
   "source": [
    "# More efficient way to read from text file\n",
    "f = open(\"poem.txt\",\"r\")\n",
    "lines = f.readlines()\n",
    "f.close()\n",
    "for line in lines:\n",
    "    print(line.strip())"
   ]
  },
  {
   "cell_type": "code",
   "execution_count": null,
   "id": "9969a2e1",
   "metadata": {},
   "outputs": [],
   "source": [
    "# Reading and printing from text file\n",
    "f = open(\"poem.txt\",\"r\")\n",
    "for line in f:\n",
    "    print(line.strip())"
   ]
  },
  {
   "cell_type": "code",
   "execution_count": null,
   "id": "107a6c81",
   "metadata": {},
   "outputs": [],
   "source": [
    "f = open(\"poem.txt\",\"a\")\n",
    "f.write(\"One for the master,\\n\")\n",
    "f.write(\"And one for the damp,\\n\")\n",
    "f.write(\"And one for the little boy,\\n\")\n",
    "f.write(\"Who lives down the lane.\\n\")\n",
    "f.close()"
   ]
  },
  {
   "cell_type": "code",
   "execution_count": 2,
   "id": "129a49b8",
   "metadata": {
    "scrolled": true
   },
   "outputs": [
    {
     "name": "stdout",
     "output_type": "stream",
     "text": [
      "John ,1234,abcd\n",
      "Paul,5678,efgh\n",
      "Machiel,6789,ijkl\n"
     ]
    }
   ],
   "source": [
    "f = open(\"Record.csv\",\"r\")\n",
    "for line in f:\n",
    "    print(line.strip())"
   ]
  },
  {
   "cell_type": "raw",
   "id": "3b01d8b8",
   "metadata": {},
   "source": [
    "while True:\n",
    "    try:\n",
    "        x = int(input(\"Enter an integer number :\"))\n",
    "        break\n",
    "    execpt:\n",
    "    "
   ]
  },
  {
   "cell_type": "code",
   "execution_count": 3,
   "id": "cc4ef417",
   "metadata": {},
   "outputs": [],
   "source": [
    "capitals = {\"Singapore\":\"Singapore\", \"Malaysia\":\"Kuala Lumpur\"}"
   ]
  },
  {
   "cell_type": "code",
   "execution_count": 4,
   "id": "eda19d37",
   "metadata": {},
   "outputs": [
    {
     "name": "stdout",
     "output_type": "stream",
     "text": [
      "Kuala Lumpur\n"
     ]
    }
   ],
   "source": [
    "print(capitals[\"Malaysia\"])"
   ]
  },
  {
   "cell_type": "code",
   "execution_count": 5,
   "id": "6ca09e04",
   "metadata": {},
   "outputs": [
    {
     "name": "stdout",
     "output_type": "stream",
     "text": [
      "{'Singapore': 'Singapore', 'Malaysia': 'Kuala Lumpur'}\n"
     ]
    }
   ],
   "source": [
    "print(capitals)"
   ]
  },
  {
   "cell_type": "code",
   "execution_count": null,
   "id": "593c87e8",
   "metadata": {},
   "outputs": [],
   "source": [
    "capitals.updates({\"Indonesia\":\"Jakarta\"})"
   ]
  },
  {
   "cell_type": "code",
   "execution_count": null,
   "id": "9ad3cb4b",
   "metadata": {},
   "outputs": [],
   "source": [
    "high"
   ]
  }
 ],
 "metadata": {
  "kernelspec": {
   "display_name": "Python 3 (ipykernel)",
   "language": "python",
   "name": "python3"
  },
  "language_info": {
   "codemirror_mode": {
    "name": "ipython",
    "version": 3
   },
   "file_extension": ".py",
   "mimetype": "text/x-python",
   "name": "python",
   "nbconvert_exporter": "python",
   "pygments_lexer": "ipython3",
   "version": "3.9.7"
  }
 },
 "nbformat": 4,
 "nbformat_minor": 5
}
